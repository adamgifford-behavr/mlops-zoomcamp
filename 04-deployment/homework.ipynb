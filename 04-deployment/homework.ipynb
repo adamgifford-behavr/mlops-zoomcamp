{
 "cells": [
  {
   "cell_type": "markdown",
   "id": "96e2a6a2",
   "metadata": {},
   "source": [
    "# Homework 4\n",
    "## Q1. Notebook\n",
    "What's the mean predicted duration for this dataset?"
   ]
  },
  {
   "cell_type": "markdown",
   "id": "59d34f93",
   "metadata": {},
   "source": [
    "16.19"
   ]
  },
  {
   "cell_type": "markdown",
   "id": "45e92230",
   "metadata": {},
   "source": [
    "## Q2. Preparing the output\n",
    "What's the size of the output file?"
   ]
  },
  {
   "cell_type": "markdown",
   "id": "7de129f6",
   "metadata": {},
   "source": [
    "19M"
   ]
  },
  {
   "cell_type": "markdown",
   "id": "100c133b",
   "metadata": {},
   "source": [
    "## Q3. Creating the scoring script\n",
    "Which command you need to execute for that?"
   ]
  },
  {
   "cell_type": "markdown",
   "id": "2b08a17f",
   "metadata": {},
   "source": [
    "```bash\n",
    "jupyter nbconvert --to script starter.ipynb\n",
    "```"
   ]
  },
  {
   "cell_type": "markdown",
   "id": "c0117bb8",
   "metadata": {},
   "source": [
    "## Q4. Virtual environment\n",
    "What's the first hash for the Scikit-Learn dependency?"
   ]
  },
  {
   "cell_type": "markdown",
   "id": "50c187e1",
   "metadata": {},
   "source": [
    "```bash\n",
    "pipenv install scikit-learn==1.0.2 pandas pyarrow --python /home/ubuntu/anaconda3/bin/python\n",
    "```"
   ]
  },
  {
   "cell_type": "markdown",
   "id": "661fa519",
   "metadata": {},
   "source": [
    "\"sha256:08ef968f6b72033c16c479c966bf37ccd49b06ea91b765e1cc27afefe723920b\""
   ]
  },
  {
   "cell_type": "markdown",
   "id": "3d597954",
   "metadata": {},
   "source": [
    "## Q5. Parametrize the script\n",
    "What's the mean predicted duration?"
   ]
  },
  {
   "cell_type": "markdown",
   "id": "053bcca8",
   "metadata": {},
   "source": [
    "16.29"
   ]
  },
  {
   "cell_type": "markdown",
   "id": "43b69657",
   "metadata": {},
   "source": [
    "## Q6. Docker contaner\n",
    "Now run the script with docker. What's the mean predicted duration for April 2021?"
   ]
  },
  {
   "cell_type": "markdown",
   "id": "11c880fa",
   "metadata": {},
   "source": [
    "9.96"
   ]
  },
  {
   "cell_type": "code",
   "execution_count": null,
   "id": "ed1d0e3f",
   "metadata": {},
   "outputs": [],
   "source": []
  }
 ],
 "metadata": {
  "kernelspec": {
   "display_name": "Python 3 (ipykernel)",
   "language": "python",
   "name": "python3"
  },
  "language_info": {
   "codemirror_mode": {
    "name": "ipython",
    "version": 3
   },
   "file_extension": ".py",
   "mimetype": "text/x-python",
   "name": "python",
   "nbconvert_exporter": "python",
   "pygments_lexer": "ipython3",
   "version": "3.9.12"
  }
 },
 "nbformat": 4,
 "nbformat_minor": 5
}
